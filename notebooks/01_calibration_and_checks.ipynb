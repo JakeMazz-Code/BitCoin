{
  "cells": [
    {
      "cell_type": "markdown",
      "metadata": {},
      "source": [
        "# Calibration And Checks\n",
        "Inspect market inputs and priors."
      ]
    },
    {
      "cell_type": "code",
      "execution_count": null,
      "metadata": {},
      "outputs": [],
      "source": [
        "import pandas as pd\n",
        "from pathlib import Path\n",
        "from bdssim.config import load_config\n",
        "from bdssim.utils.io import load_timeseries\n",
        "cfg = load_config('configs/base.yaml')\n",
        "display(cfg.model_dump())\n",
        "liq = pd.read_csv(Path('data/market/btc_liquidity_sample.csv'))\n",
        "liq.set_index('day').plot(title='Sample Liquidity Inputs')\n"
      ]
    },
    {
      "cell_type": "markdown",
      "metadata": {},
      "source": [
        "## Notes\n",
        "- Adjust parameters after reviewing historical stylised facts."
      ]
    }
  ],
  "metadata": {
    "kernelspec": {
      "display_name": "Python 3",
      "language": "python",
      "name": "python3"
    },
    "language_info": {
      "name": "python",
      "version": "3.11"
    }
  },
  "nbformat": 4,
  "nbformat_minor": 5
}