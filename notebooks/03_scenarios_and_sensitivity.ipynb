{
  "cells": [
    {
      "cell_type": "markdown",
      "metadata": {},
      "source": [
        "# Scenario Analysis\n",
        "Compare base, optimistic, and stress scenarios."
      ]
    },
    {
      "cell_type": "code",
      "execution_count": null,
      "metadata": {},
      "outputs": [],
      "source": [
        "import pandas as pd\n",
        "from bdssim.config import load_config\n",
        "from bdssim.engine.simulation import SimulationEngine\n",
        "scenarios = {name: load_config(f'configs/{name}.yaml') for name in ['base', 'optimistic', 'stress_liquidity']}\n",
        "frames = []\n",
        "for name, cfg in scenarios.items():\n",
        "    eng = SimulationEngine(cfg)\n",
        "    res = eng.run()\n",
        "    df = res.timeseries.copy()\n",
        "    df['scenario'] = name\n",
        "    frames.append(df)\n",
        "combined = pd.concat(frames, ignore_index=True)\n",
        "combined.pivot(index='day', columns='scenario', values='price').plot(title='Scenario Price Comparison')\n",
        "combined.pivot(index='day', columns='scenario', values='debt_coverage').plot(title='Debt Coverage Comparison')\n"
      ]
    },
    {
      "cell_type": "markdown",
      "metadata": {},
      "source": [
        "The notebook highlights sensitivity of coverage outcomes to liquidity stress and policy pacing."
      ]
    }
  ],
  "metadata": {
    "kernelspec": {
      "display_name": "Python 3",
      "language": "python",
      "name": "python3"
    },
    "language_info": {
      "name": "python",
      "version": "3.11"
    }
  },
  "nbformat": 4,
  "nbformat_minor": 5
}