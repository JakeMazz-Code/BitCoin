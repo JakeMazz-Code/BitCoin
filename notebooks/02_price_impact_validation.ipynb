{
  "cells": [
    {
      "cell_type": "markdown",
      "metadata": {},
      "source": [
        "# Price Impact Validation\n",
        "Deterministic runs to visualise impact and decay mechanics."
      ]
    },
    {
      "cell_type": "code",
      "execution_count": null,
      "metadata": {},
      "outputs": [],
      "source": [
        "from pathlib import Path\n",
        "import pandas as pd\n",
        "from bdssim.config import load_config\n",
        "from bdssim.engine.simulation import SimulationEngine\n",
        "cfg = load_config('configs/base.yaml')\n",
        "cfg = cfg.model_copy(update={'objective': cfg.objective.model_copy(update={'horizon_days': 90})})\n",
        "engine = SimulationEngine(cfg)\n",
        "result = engine.run()\n",
        "result.timeseries[['price', 'visible_order_usd']].plot(subplots=True, title='Impact Dynamics')\n"
      ]
    },
    {
      "cell_type": "markdown",
      "metadata": {},
      "source": [
        "Interpretation: temporary impact decays via exponential kernel, while permanent impact shifts baseline."
      ]
    }
  ],
  "metadata": {
    "kernelspec": {
      "display_name": "Python 3",
      "language": "python",
      "name": "python3"
    },
    "language_info": {
      "name": "python",
      "version": "3.11"
    }
  },
  "nbformat": 4,
  "nbformat_minor": 5
}